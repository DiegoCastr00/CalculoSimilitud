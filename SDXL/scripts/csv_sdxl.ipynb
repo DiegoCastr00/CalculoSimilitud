{
 "cells": [
  {
   "cell_type": "markdown",
   "metadata": {},
   "source": [
    "Crear csv para las imagenes gneradas por stable diffusion, ademas de comprobar las rutas si son correctas"
   ]
  },
  {
   "cell_type": "code",
   "execution_count": 1,
   "metadata": {},
   "outputs": [
    {
     "name": "stdout",
     "output_type": "stream",
     "text": [
      "\n",
      "Todas las imágenes fueron encontradas.\n"
     ]
    }
   ],
   "source": [
    "import os\n",
    "import pandas as pd\n",
    "\n",
    "# Ruta del archivo CSV original\n",
    "input_csv = 'compressPromptLite_resize768.csv'\n",
    "\n",
    "# Ruta donde se guardarán las imágenes generadas\n",
    "image_base_path = 'imagenes/SDXL/'\n",
    "\n",
    "# Ruta del archivo CSV de salida\n",
    "output_csv = 'resultado.csv'\n",
    "\n",
    "# Leer el archivo CSV original\n",
    "df = pd.read_csv(input_csv)\n",
    "\n",
    "# Función para construir la ruta relativa de la imagen generada\n",
    "def generate_relative_image_path(file_name):\n",
    "    # Agregar \"_generated.jpg\" al nombre del archivo\n",
    "    return file_name.replace('.jpg', '_generated.jpg')\n",
    "\n",
    "# Agregar la nueva columna con las rutas relativas de las imágenes generadas\n",
    "df['relative_generated_image'] = df['file_name'].apply(generate_relative_image_path)\n",
    "\n",
    "# Lista para almacenar los archivos que no se encuentran\n",
    "missing_images = []\n",
    "\n",
    "# Verificar si cada imagen generada existe\n",
    "for index, row in df.iterrows():\n",
    "    full_image_path = os.path.join(image_base_path, row['relative_generated_image'])\n",
    "    if not os.path.exists(full_image_path):\n",
    "        # Si no existe, agregar el nombre del archivo a la lista de imágenes faltantes\n",
    "        missing_images.append(row['file_name'])\n",
    "        print(f\"Imagen no encontrada: {full_image_path}\")\n",
    "\n",
    "# Guardar el DataFrame actualizado en un nuevo archivo CSV con nombres de columnas personalizados\n",
    "df.rename(columns={\n",
    "    'file_name': 'original_image',\n",
    "    'processed_prompt': 'prompt',\n",
    "    'relative_generated_image': 'generated_image'\n",
    "}, inplace=True)\n",
    "\n",
    "df.to_csv(output_csv, index=False)\n",
    "\n",
    "# Imprimir un resumen de las imágenes faltantes\n",
    "if missing_images:\n",
    "    print(\"\\nResumen de imágenes no encontradas:\")\n",
    "    for missing in missing_images:\n",
    "        print(missing)\n",
    "else:\n",
    "    print(\"\\nTodas las imágenes fueron encontradas.\")"
   ]
  },
  {
   "cell_type": "code",
   "execution_count": 2,
   "metadata": {},
   "outputs": [],
   "source": [
    "# Mantener solo las columnas relevantes\n",
    "df = df[['generated_image', 'prompt']]\n",
    "\n",
    "# Guardar el archivo CSV modificado\n",
    "df.to_csv('data.csv', index=False)"
   ]
  },
  {
   "cell_type": "markdown",
   "metadata": {},
   "source": [
    "Prompts completos "
   ]
  },
  {
   "cell_type": "code",
   "execution_count": 3,
   "metadata": {},
   "outputs": [
    {
     "name": "stdout",
     "output_type": "stream",
     "text": [
      "CSV combinado generado exitosamente.\n"
     ]
    }
   ],
   "source": [
    "import pandas as pd\n",
    "csv1 = pd.read_csv('datatset_prompts_lite.csv')\n",
    "csv2 = pd.read_csv('resultado.csv')\n",
    "\n",
    "csv1 = csv1.rename(columns={'file_name': 'original_image', 'prompt': 'prompt_complete'})\n",
    "csv2 = csv2.rename(columns={'original_image': 'original_image', 'prompt': 'prompt_compressed'})\n",
    "\n",
    "csv1['original_image'] = csv1['original_image'].str.replace('_resize1024.', '_resize768.')\n",
    "\n",
    "csv1 = csv1.drop(columns=['category'])\n",
    "\n",
    "merged_csv = pd.merge(csv1, csv2, on='original_image', how='outer')\n",
    "\n",
    "merged_csv.to_csv('metadata.csv', index=False)\n",
    "\n",
    "print(\"CSV combinado generado exitosamente.\")"
   ]
  }
 ],
 "metadata": {
  "kernelspec": {
   "display_name": "venv",
   "language": "python",
   "name": "python3"
  },
  "language_info": {
   "codemirror_mode": {
    "name": "ipython",
    "version": 3
   },
   "file_extension": ".py",
   "mimetype": "text/x-python",
   "name": "python",
   "nbconvert_exporter": "python",
   "pygments_lexer": "ipython3",
   "version": "3.10.9"
  }
 },
 "nbformat": 4,
 "nbformat_minor": 2
}
