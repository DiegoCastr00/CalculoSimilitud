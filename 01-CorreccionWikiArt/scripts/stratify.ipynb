{
 "cells": [
  {
   "cell_type": "code",
   "execution_count": 1,
   "metadata": {},
   "outputs": [
    {
     "name": "stdout",
     "output_type": "stream",
     "text": [
      "Proceso completado. El archivo actualizado se ha guardado en: stratify.csv\n"
     ]
    }
   ],
   "source": [
    "import pandas as pd\n",
    "from sklearn.model_selection import train_test_split\n",
    "\n",
    "# Cargar el archivo CSV\n",
    "csv_file = \"dataset.csv\"\n",
    "df = pd.read_csv(csv_file)\n",
    "\n",
    "# Crear una nueva columna 'category' inicializada como vacía\n",
    "df['category'] = None\n",
    "\n",
    "# Realizar la división estratificada por género usando train_test_split\n",
    "for genre in df['genre'].unique():\n",
    "    # Filtrar las filas correspondientes al género actual\n",
    "    genre_mask = df['genre'] == genre\n",
    "    genre_df = df[genre_mask]\n",
    "    \n",
    "    # Dividir en radical (80%) y moderate (20%) usando train_test_split\n",
    "    radical, moderate = train_test_split(genre_df.index, test_size=0.2, random_state=42, stratify=genre_df['genre'])\n",
    "    \n",
    "    # Asignar las etiquetas 'radical' y 'moderate'\n",
    "    df.loc[radical, 'category'] = 'radical'\n",
    "    df.loc[moderate, 'category'] = 'moderate'\n",
    "\n",
    "# Reorganizar las columnas para que 'category' esté antes de 'subset'\n",
    "cols = list(df.columns)\n",
    "subset_index = cols.index('subset')\n",
    "cols.insert(subset_index, cols.pop(cols.index('category')))\n",
    "df = df[cols]\n",
    "\n",
    "# Guardar el archivo CSV actualizado\n",
    "output_file = \"stratify.csv\"\n",
    "df.to_csv(output_file, index=False)\n",
    "\n",
    "print(\"Proceso completado. El archivo actualizado se ha guardado en:\", output_file)"
   ]
  },
  {
   "cell_type": "code",
   "execution_count": 2,
   "metadata": {},
   "outputs": [
    {
     "name": "stdout",
     "output_type": "stream",
     "text": [
      "Distribución de los datos por género y categoría:\n",
      "category                    moderate  radical\n",
      "genre                                        \n",
      "Abstract Expressionism           557     2225\n",
      "Action painting                   20       78\n",
      "Analytical Cubism                 22       88\n",
      "Art Nouveau Modern               867     3467\n",
      "Baroque                          848     3392\n",
      "Color Field Painting             323     1292\n",
      "Contemporary Realism              97      384\n",
      "Cubism                           447     1788\n",
      "Early Renaissance                279     1112\n",
      "Expressionism                   1348     5388\n",
      "Fauvism                          187      747\n",
      "High Renaissance                 269     1074\n",
      "Impressionism                   2612    10448\n",
      "Mannerism Late Renaissance       256     1023\n",
      "Minimalism                       268     1069\n",
      "Naive Art Primitivism            481     1924\n",
      "New Realism                       63      251\n",
      "Northern Renaissance             511     2041\n",
      "Pointillism                      103      410\n",
      "Pop Art                          297     1186\n",
      "Post Impressionism              1290     5160\n",
      "Realism                         2147     8586\n",
      "Rococo                           418     1671\n",
      "Romanticism                     1404     5615\n",
      "Symbolism                        906     3622\n",
      "Synthetic Cubism                  44      172\n",
      "Ukiyo e                          234      933\n",
      "\n",
      "Proporciones de radical y moderate (%):\n",
      "category                    radical_pct  moderate_pct\n",
      "genre                                                \n",
      "Abstract Expressionism        79.978433     20.021567\n",
      "Action painting               79.591837     20.408163\n",
      "Analytical Cubism             80.000000     20.000000\n",
      "Art Nouveau Modern            79.995385     20.004615\n",
      "Baroque                       80.000000     20.000000\n",
      "Color Field Painting          80.000000     20.000000\n",
      "Contemporary Realism          79.833680     20.166320\n",
      "Cubism                        80.000000     20.000000\n",
      "Early Renaissance             79.942487     20.057513\n",
      "Expressionism                 79.988124     20.011876\n",
      "Fauvism                       79.978587     20.021413\n",
      "High Renaissance              79.970216     20.029784\n",
      "Impressionism                 80.000000     20.000000\n",
      "Mannerism Late Renaissance    79.984363     20.015637\n",
      "Minimalism                    79.955123     20.044877\n",
      "Naive Art Primitivism         80.000000     20.000000\n",
      "New Realism                   79.936306     20.063694\n",
      "Northern Renaissance          79.976489     20.023511\n",
      "Pointillism                   79.922027     20.077973\n",
      "Pop Art                       79.973028     20.026972\n",
      "Post Impressionism            80.000000     20.000000\n",
      "Realism                       79.996273     20.003727\n",
      "Rococo                        79.990426     20.009574\n",
      "Romanticism                   79.997151     20.002849\n",
      "Symbolism                     79.991166     20.008834\n",
      "Synthetic Cubism              79.629630     20.370370\n",
      "Ukiyo e                       79.948586     20.051414\n"
     ]
    }
   ],
   "source": [
    "\n",
    "# Imprimir la distribución de los datos\n",
    "print(\"Distribución de los datos por género y categoría:\")\n",
    "distribution = df.groupby(['genre', 'category']).size().unstack(fill_value=0)\n",
    "print(distribution)\n",
    "\n",
    "# Calcular la proporción de radical vs moderate para cada género\n",
    "distribution['total'] = distribution['radical'] + distribution['moderate']\n",
    "distribution['radical_pct'] = (distribution['radical'] / distribution['total']) * 100\n",
    "distribution['moderate_pct'] = (distribution['moderate'] / distribution['total']) * 100\n",
    "\n",
    "print(\"\\nProporciones de radical y moderate (%):\")\n",
    "print(distribution[['radical_pct', 'moderate_pct']])"
   ]
  },
  {
   "cell_type": "code",
   "execution_count": 3,
   "metadata": {},
   "outputs": [
    {
     "name": "stdout",
     "output_type": "stream",
     "text": [
      "CSV dividido en 4 partes con éxito.\n"
     ]
    }
   ],
   "source": [
    "import pandas as pd\n",
    "\n",
    "df = pd.read_csv(\"stratify.csv\")\n",
    "\n",
    "num_rows = len(df)\n",
    "\n",
    "chunks = 4\n",
    "chunk_size = num_rows // chunks\n",
    "\n",
    "for i in range(chunks):\n",
    "    start = i * chunk_size\n",
    "    end = (i + 1) * chunk_size if i < chunks - 1 else num_rows\n",
    "    df_chunk = df.iloc[start:end]\n",
    "    df_chunk.to_csv(f\"parte_{i+1}.csv\", index=False)\n",
    "\n",
    "print(\"CSV dividido en 4 partes con éxito.\")\n"
   ]
  }
 ],
 "metadata": {
  "kernelspec": {
   "display_name": "venv",
   "language": "python",
   "name": "python3"
  },
  "language_info": {
   "codemirror_mode": {
    "name": "ipython",
    "version": 3
   },
   "file_extension": ".py",
   "mimetype": "text/x-python",
   "name": "python",
   "nbconvert_exporter": "python",
   "pygments_lexer": "ipython3",
   "version": "3.10.9"
  }
 },
 "nbformat": 4,
 "nbformat_minor": 2
}
